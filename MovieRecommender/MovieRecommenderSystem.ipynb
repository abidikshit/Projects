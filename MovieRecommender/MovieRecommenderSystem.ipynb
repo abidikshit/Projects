{
 "cells": [
  {
   "cell_type": "markdown",
   "id": "8e98ca81-91d7-4167-b757-ba7ca55f88fa",
   "metadata": {},
   "source": [
    "# <center>Movie Recommender System</center>\n",
    "| Name |\n",
    "|--------|\n",
    "| Abhilash Dikshit|"
   ]
  },
  {
   "cell_type": "markdown",
   "id": "849265a8-f6e4-44de-8f44-c57e1d006ece",
   "metadata": {},
   "source": [
    "We will be performing two types of recommendation systems.\n",
    "\n",
    "- Content-Based Recommender System\n",
    "- Collaborative Recommender System"
   ]
  },
  {
   "cell_type": "markdown",
   "id": "7ee73d24-bf6b-4cee-960a-e92d1214c4f1",
   "metadata": {},
   "source": [
    "Content-Based Recommender System and Collaborative Recommender System are two common approaches used in recommendation systems to suggest items (such as movies, products, or articles) to users based on their preferences and behavior. Here's an overview of each approach:\n",
    "\n",
    "**1. Content-Based Recommender System:**\n",
    "   - **How it works:** Content-based recommendation focuses on the characteristics of items and a user's profile to make recommendations. It suggests items similar to those the user has shown interest in, based on the content features of those items.\n",
    "   - **Key Components:**\n",
    "     - **User Profile:** A user profile is created based on the user's historical interactions or explicit preferences. For example, if the system is recommending movies, the user's profile may contain information about genres, actors, or directors they like.\n",
    "     - **Item Profile:** Each item in the catalog is described by a set of content features. For movies, these features might include genre, director, cast, and plot keywords.\n",
    "     - **Recommendation Process:** The system compares the user's profile with item profiles and recommends items that have content features similar to the user's preferences. For instance, if a user has shown a preference for action movies with certain actors,\n",
    "    \n",
    "**2. Collaborative Recommender System is an approach used in recommendation systems to provide personalized suggestions to users based on their past behavior and preferences. It relies on the idea that users who have shown similar preferences in the past will continue to do so in the future. There are two main types of collaborative recommender systems:**\n",
    "\n",
    "1. **User-Based Collaborative Filtering:**\n",
    "   - **How it works:** User-based collaborative filtering recommends items to a target user based on the preferences and behavior of users who are similar to that target user. It identifies users with similar tastes and suggests items that those similar users have liked but the target user has not yet interacted with.\n",
    "   - **Process:**\n",
    "     - Calculate similarity scores between users. Various similarity metrics can be used, such as cosine similarity or Pearson correlation.\n",
    "     - Identify users who are most similar to the target user based on their behavior and preferences.\n",
    "     - Recommend items that the similar users have liked but the target user has not interacted with.\n",
    "   - **Pros:** It can provide accurate recommendations when there is sufficient user data.\n",
    "\n",
    "2. **Item-Based Collaborative Filtering:**\n",
    "   - **How it works:** Item-based collaborative filtering recommends items to a target user based on the similarity between items. It identifies items that are similar to those the target user has already interacted with and suggests those similar items.\n",
    "   - **Process:**\n",
    "     - Calculate similarity scores between items. Similarity metrics, such as cosine similarity or Jaccard index, can be used.\n",
    "     - Identify items that are most similar to the ones the target user has already interacted with.\n",
    "     - Recommend the most similar items that the user has not yet interacted with.\n",
    "   - **Pros:** It can provide accurate recommendations and is often computationally efficient compared to user-based collaborative filtering."
   ]
  },
  {
   "cell_type": "markdown",
   "id": "a910abd1-3023-49be-8452-ed3505a6459b",
   "metadata": {},
   "source": [
    "LightFm package has a large set of datasets related to the movie rating. "
   ]
  },
  {
   "cell_type": "code",
   "execution_count": 2,
   "id": "4f3cd660-0508-4865-8a3f-da17506cf05c",
   "metadata": {},
   "outputs": [
    {
     "name": "stdout",
     "output_type": "stream",
     "text": [
      "Requirement already satisfied: lightfm in /Users/abidikshit/opt/anaconda3/lib/python3.9/site-packages (1.17)\n",
      "Requirement already satisfied: scikit-learn in /Users/abidikshit/opt/anaconda3/lib/python3.9/site-packages (from lightfm) (1.2.2)\n",
      "Requirement already satisfied: requests in /Users/abidikshit/opt/anaconda3/lib/python3.9/site-packages (from lightfm) (2.29.0)\n",
      "Requirement already satisfied: scipy>=0.17.0 in /Users/abidikshit/opt/anaconda3/lib/python3.9/site-packages (from lightfm) (1.10.1)\n",
      "Requirement already satisfied: numpy in /Users/abidikshit/opt/anaconda3/lib/python3.9/site-packages (from lightfm) (1.21.5)\n",
      "Requirement already satisfied: certifi>=2017.4.17 in /Users/abidikshit/opt/anaconda3/lib/python3.9/site-packages (from requests->lightfm) (2022.12.7)\n",
      "Requirement already satisfied: urllib3<1.27,>=1.21.1 in /Users/abidikshit/opt/anaconda3/lib/python3.9/site-packages (from requests->lightfm) (1.26.15)\n",
      "Requirement already satisfied: charset-normalizer<4,>=2 in /Users/abidikshit/opt/anaconda3/lib/python3.9/site-packages (from requests->lightfm) (2.0.4)\n",
      "Requirement already satisfied: idna<4,>=2.5 in /Users/abidikshit/opt/anaconda3/lib/python3.9/site-packages (from requests->lightfm) (3.4)\n",
      "Requirement already satisfied: joblib>=1.1.1 in /Users/abidikshit/opt/anaconda3/lib/python3.9/site-packages (from scikit-learn->lightfm) (1.1.1)\n",
      "Requirement already satisfied: threadpoolctl>=2.0.0 in /Users/abidikshit/opt/anaconda3/lib/python3.9/site-packages (from scikit-learn->lightfm) (2.2.0)\n",
      "Requirement already satisfied: numpy in /Users/abidikshit/opt/anaconda3/lib/python3.9/site-packages (1.21.5)\n",
      "Requirement already satisfied: scipy in /Users/abidikshit/opt/anaconda3/lib/python3.9/site-packages (1.10.1)\n",
      "Requirement already satisfied: numpy<1.27.0,>=1.19.5 in /Users/abidikshit/opt/anaconda3/lib/python3.9/site-packages (from scipy) (1.21.5)\n"
     ]
    }
   ],
   "source": [
    "!pip install lightfm\n",
    "!pip install numpy\n",
    "!pip install scipy"
   ]
  },
  {
   "cell_type": "code",
   "execution_count": 3,
   "id": "3a0d3d94-9423-45dd-b7b3-e9a480c9427f",
   "metadata": {},
   "outputs": [
    {
     "name": "stderr",
     "output_type": "stream",
     "text": [
      "/Users/abidikshit/opt/anaconda3/lib/python3.9/site-packages/lightfm/_lightfm_fast.py:9: UserWarning: LightFM was compiled without OpenMP support. Only a single thread will be used.\n",
      "  warnings.warn(\n"
     ]
    }
   ],
   "source": [
    "import numpy as np\n",
    "from lightfm.datasets import fetch_movielens\n",
    "from lightfm import LightFM"
   ]
  },
  {
   "cell_type": "markdown",
   "id": "0e215b70-f8a0-4620-9ea6-4be43315ff44",
   "metadata": {},
   "source": [
    "fetch_movielens method is used to fetch movie data with minimum rating of 3.0."
   ]
  },
  {
   "cell_type": "code",
   "execution_count": 4,
   "id": "9913ea76-99a9-41bc-b65a-008913f67e84",
   "metadata": {},
   "outputs": [],
   "source": [
    "data = fetch_movielens(min_rating = 3.0)"
   ]
  },
  {
   "cell_type": "code",
   "execution_count": 6,
   "id": "5626e7cc-ab97-41c3-b2fb-4cefda2b4dbc",
   "metadata": {},
   "outputs": [
    {
     "data": {
      "text/plain": [
       "{'train': <943x1682 sparse matrix of type '<class 'numpy.int32'>'\n",
       " \twith 74627 stored elements in COOrdinate format>,\n",
       " 'test': <943x1682 sparse matrix of type '<class 'numpy.int32'>'\n",
       " \twith 7893 stored elements in COOrdinate format>,\n",
       " 'item_features': <1682x1682 sparse matrix of type '<class 'numpy.float32'>'\n",
       " \twith 1682 stored elements in Compressed Sparse Row format>,\n",
       " 'item_feature_labels': array(['T', 'G', 'F', ..., 'S', 'Y', 'S'], dtype='<U1'),\n",
       " 'item_labels': array(['T', 'G', 'F', ..., 'S', 'Y', 'S'], dtype='<U1')}"
      ]
     },
     "metadata": {},
     "output_type": "display_data"
    }
   ],
   "source": [
    "display(data)"
   ]
  },
  {
   "cell_type": "markdown",
   "id": "0e29f5fd-62a3-4850-bb07-aa4a6b57866f",
   "metadata": {},
   "source": [
    "In a supervised learning, we use a training dataset, that contains outcomes, to train the machine. \n",
    "We then use testing dataset that has no outcomes to predict outcomes."
   ]
  },
  {
   "cell_type": "code",
   "execution_count": 8,
   "id": "f6213d78-3769-4f36-b7d6-417af6bf5d3c",
   "metadata": {},
   "outputs": [
    {
     "name": "stdout",
     "output_type": "stream",
     "text": [
      "<943x1682 sparse matrix of type '<class 'numpy.int32'>'\n",
      "\twith 74627 stored elements in COOrdinate format>\n",
      "<943x1682 sparse matrix of type '<class 'numpy.int32'>'\n",
      "\twith 7893 stored elements in COOrdinate format>\n"
     ]
    }
   ],
   "source": [
    "print(repr(data['train']))\n",
    "print(repr(data['test']))"
   ]
  },
  {
   "cell_type": "markdown",
   "id": "35d61631-1b38-4958-822e-3c469ed17f5f",
   "metadata": {},
   "source": [
    "Let's create a lightfm model with ‘warp’ loss function"
   ]
  },
  {
   "cell_type": "code",
   "execution_count": 10,
   "id": "cdcaa0b0-89b9-4ee8-892d-02a20f24bdbd",
   "metadata": {},
   "outputs": [],
   "source": [
    "model = LightFM(loss = 'warp')"
   ]
  },
  {
   "cell_type": "markdown",
   "id": "e81a402d-71a8-4514-a6aa-0406d0c562ef",
   "metadata": {},
   "source": [
    "We will train this model using our train data, with an epoch or iteration value of 30."
   ]
  },
  {
   "cell_type": "code",
   "execution_count": 12,
   "id": "a3988a2e-960c-4993-b1ea-ba93873969b8",
   "metadata": {},
   "outputs": [
    {
     "data": {
      "text/plain": [
       "<lightfm.lightfm.LightFM at 0x7fe2aa825460>"
      ]
     },
     "execution_count": 12,
     "metadata": {},
     "output_type": "execute_result"
    }
   ],
   "source": [
    "model.fit(data['train'], epochs=30, num_threads=2)"
   ]
  },
  {
   "cell_type": "markdown",
   "id": "8bfe125e-1e60-4ab8-ad86-50e63435237f",
   "metadata": {},
   "source": [
    "Take Input in the terminal to recommend movies for specific user ID."
   ]
  },
  {
   "cell_type": "code",
   "execution_count": 31,
   "id": "1cf1b665-3df4-433a-9298-65b98aa269f8",
   "metadata": {},
   "outputs": [
    {
     "name": "stdin",
     "output_type": "stream",
     "text": [
      "Enter user ID:  15\n"
     ]
    },
    {
     "name": "stdout",
     "output_type": "stream",
     "text": [
      "User 15\n",
      "     Known positives:\n",
      "        T\n",
      "        G\n",
      "        T\n",
      "     Recommended:\n",
      "        R\n",
      "        S\n",
      "        S\n"
     ]
    },
    {
     "data": {
      "image/png": "[encoded data removed]",
      "text/plain": [
       "<Figure size 1000x600 with 1 Axes>"
      ]
     },
     "metadata": {},
     "output_type": "display_data"
    }
   ],
   "source": [
    "import matplotlib.pyplot as plt\n",
    "\n",
    "def recommendation(model, data, user_id):\n",
    "    n_users, n_items = data['train'].shape\n",
    "\n",
    "    known_positives = data['item_labels'][data['train'].tocsr()[user_id].indices]\n",
    "\n",
    "    scores = model.predict(user_id, np.arange(n_items))\n",
    "\n",
    "    top_items = data['item_labels'][np.argsort(-scores)]\n",
    "    \n",
    "    print(\"User %s\" % user_id)\n",
    "    print(\"     Known positives:\")\n",
    "    \n",
    "    for x in known_positives[:3]:\n",
    "        print(\"        %s\" % x)\n",
    "    \n",
    "    print(\"     Recommended:\")\n",
    "    \n",
    "    for x in top_items[:3]:\n",
    "        print(\"        %s\" % x)\n",
    "\n",
    "    # Create a bar chart to visualize recommendations\n",
    "    plt.figure(figsize=(10, 6))\n",
    "    plt.bar(range(3), scores[np.argsort(-scores)][:3], align='center', alpha=0.5)\n",
    "    plt.xticks(range(3), top_items[:3], rotation=15)\n",
    "    plt.xlabel('Movies')\n",
    "    plt.ylabel('Recommendation Score')\n",
    "    plt.title(f'Recommended Movies for User {user_id}')\n",
    "    plt.tight_layout()\n",
    "    plt.show()\n",
    "\n",
    "if __name__ == \"__main__\":\n",
    "    user_id = int(input(\"Enter user ID: \"))  # Input the user ID from the terminal\n",
    "    # Replace 'model', 'data', and 'user_id' with your actual recommendation model, data, and user ID\n",
    "    recommendation(model, data, user_id)\n"
   ]
  },
  {
   "cell_type": "code",
   "execution_count": null,
   "id": "1ed41e97-3b4c-4b64-8ec7-71e868eef01b",
   "metadata": {},
   "outputs": [],
   "source": []
  }
 ],
 "metadata": {
  "kernelspec": {
   "display_name": "Python 3 (ipykernel)",
   "language": "python",
   "name": "python3"
  },
  "language_info": {
   "codemirror_mode": {
    "name": "ipython",
    "version": 3
   },
   "file_extension": ".py",
   "mimetype": "text/x-python",
   "name": "python",
   "nbconvert_exporter": "python",
   "pygments_lexer": "ipython3",
   "version": "3.9.13"
  }
 },
 "nbformat": 4,
 "nbformat_minor": 5
}
